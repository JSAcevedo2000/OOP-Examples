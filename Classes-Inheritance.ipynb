{
 "cells": [
  {
   "cell_type": "code",
   "execution_count": 72,
   "metadata": {},
   "outputs": [
    {
     "name": "stdout",
     "output_type": "stream",
     "text": [
      "6 is 5 years old and Firulais is Doge years old.\n",
      "Doge is a mammal!\n",
      "The oldest dog is 6 years old.\n",
      "------------------------------------------------------------------------------\n",
      "Doge is 5 years old\n",
      "Doge says -communism doesn't work-, woof\n",
      "------------------------------------------------------------------------------\n",
      "Maya is 10 years old\n",
      "Maya runs very much fast wow\n",
      "------------------------------------------------------------------------------\n",
      "True\n",
      "True\n",
      "True\n"
     ]
    },
    {
     "ename": "TypeError",
     "evalue": "isinstance() arg 2 must be a type or tuple of types",
     "output_type": "error",
     "traceback": [
      "\u001b[1;31m---------------------------------------------------------------------------\u001b[0m",
      "\u001b[1;31mTypeError\u001b[0m                                 Traceback (most recent call last)",
      "\u001b[1;32m<ipython-input-72-f194af188c1b>\u001b[0m in \u001b[0;36m<module>\u001b[1;34m\u001b[0m\n\u001b[0;32m     58\u001b[0m \u001b[0mprint\u001b[0m\u001b[1;33m(\u001b[0m\u001b[0misinstance\u001b[0m\u001b[1;33m(\u001b[0m\u001b[0mreveille\u001b[0m\u001b[1;33m,\u001b[0m \u001b[0mBorderCollie\u001b[0m\u001b[1;33m)\u001b[0m\u001b[1;33m)\u001b[0m\u001b[1;33m\u001b[0m\u001b[1;33m\u001b[0m\u001b[0m\n\u001b[0;32m     59\u001b[0m \u001b[1;31m#Is instance of...\u001b[0m\u001b[1;33m\u001b[0m\u001b[1;33m\u001b[0m\u001b[1;33m\u001b[0m\u001b[0m\n\u001b[1;32m---> 60\u001b[1;33m \u001b[0mprint\u001b[0m\u001b[1;33m(\u001b[0m\u001b[0misinstance\u001b[0m\u001b[1;33m(\u001b[0m\u001b[0mreveille\u001b[0m\u001b[1;33m,\u001b[0m \u001b[0mkuro\u001b[0m\u001b[1;33m)\u001b[0m\u001b[1;33m)\u001b[0m\u001b[1;33m\u001b[0m\u001b[1;33m\u001b[0m\u001b[0m\n\u001b[0m",
      "\u001b[1;31mTypeError\u001b[0m: isinstance() arg 2 must be a type or tuple of types"
     ]
    }
   ],
   "source": [
    "class Dog:\n",
    "    \n",
    "    species = 'mammal'\n",
    "    \n",
    "    def __init__(self, name, age):\n",
    "        self.name = name\n",
    "        self.age = age\n",
    "        \n",
    "    def description(self):\n",
    "        return \"{} is {} years old\".format(self.name, self.age)\n",
    "    \n",
    "    def speak(self, sound):\n",
    "        return \"{} says {}\".format(self.name, sound)\n",
    "#------------------------------------------------------------------------------\n",
    "\n",
    "doge = Dog(\"Doge\", 5)\n",
    "maya = Dog(\"Maya\", 4)\n",
    "firulais = Dog(\"Firulais\", 6)\n",
    "#------------------------------------------------------------------------------\n",
    "\n",
    "print (\"{3} is {1} years old and {2} is {0} years old.\".format(\n",
    "doge.name, doge.age, firulais.name, firulais.age))\n",
    "\n",
    "if doge.species == \"mammal\":\n",
    "    print(\"{} is a {}!\".format(\n",
    "    doge.name, doge.species))\n",
    "\n",
    "def get_biggest_number():\n",
    "    return max(doge.age, maya.age, firulais.age)\n",
    "\n",
    "print(\"The oldest dog is {} years old.\".format(get_biggest_number()))\n",
    "#------------------------------------------------------------------------------\n",
    "print(\"------------------------------------------------------------------------------\")\n",
    "print(doge.description())\n",
    "print(doge.speak(\"-communism doesn't work-, woof\"))\n",
    "#------------------------------------------------------------------------------\n",
    "print(\"------------------------------------------------------------------------------\")\n",
    "class BorderCollie(Dog):\n",
    "    def run(self, speed):\n",
    "        return '{} runs {}'.format(self.name, speed)\n",
    "    \n",
    "class Samoyed(Dog):\n",
    "    def run(self, speed):\n",
    "        return '{} runs {}'.format(self.name, speed)\n",
    "    \n",
    "maya = Samoyed(\"Maya\", 10)\n",
    "print(maya.description())\n",
    "print(maya.run(\"very much fast wow\"))\n",
    "#-------------------------------------------------------------------------------------\n",
    "print(\"------------------------------------------------------------------------------\")\n",
    "#Is Instance\n",
    "print(isinstance(maya, Dog))\n",
    "#Is Instance\n",
    "kuro = Dog(\"Kuro\", 2)\n",
    "print(isinstance(kuro, Dog))\n",
    "#Is instance of...\n",
    "reveille = BorderCollie(\"Reveille\", 4)\n",
    "print(isinstance(reveille, BorderCollie))\n",
    "#Is instance of...\n",
    "print(isinstance(reveille, kuro))"
   ]
  },
  {
   "cell_type": "code",
   "execution_count": 64,
   "metadata": {},
   "outputs": [],
   "source": [
    "class Email:\n",
    "    def __init__(self):\n",
    "        self.is_sent = False\n",
    "    def send_email(self):\n",
    "        self.is_sent = True\n",
    "    def delete_email(self):\n",
    "        self.is_sent = False"
   ]
  },
  {
   "cell_type": "code",
   "execution_count": 65,
   "metadata": {},
   "outputs": [
    {
     "data": {
      "text/plain": [
       "False"
      ]
     },
     "execution_count": 65,
     "metadata": {},
     "output_type": "execute_result"
    }
   ],
   "source": [
    "my_email = Email()\n",
    "my_email.is_sent"
   ]
  },
  {
   "cell_type": "code",
   "execution_count": 66,
   "metadata": {},
   "outputs": [
    {
     "data": {
      "text/plain": [
       "True"
      ]
     },
     "execution_count": 66,
     "metadata": {},
     "output_type": "execute_result"
    }
   ],
   "source": [
    "my_email.send_email()\n",
    "my_email.is_sent"
   ]
  },
  {
   "cell_type": "code",
   "execution_count": 68,
   "metadata": {},
   "outputs": [
    {
     "data": {
      "text/plain": [
       "False"
      ]
     },
     "execution_count": 68,
     "metadata": {},
     "output_type": "execute_result"
    }
   ],
   "source": [
    "my_email.delete_email()\n",
    "my_email.is_sent"
   ]
  },
  {
   "cell_type": "code",
   "execution_count": null,
   "metadata": {},
   "outputs": [],
   "source": []
  }
 ],
 "metadata": {
  "kernelspec": {
   "display_name": "Python 3",
   "language": "python",
   "name": "python3"
  },
  "language_info": {
   "codemirror_mode": {
    "name": "ipython",
    "version": 3
   },
   "file_extension": ".py",
   "mimetype": "text/x-python",
   "name": "python",
   "nbconvert_exporter": "python",
   "pygments_lexer": "ipython3",
   "version": "3.7.1"
  }
 },
 "nbformat": 4,
 "nbformat_minor": 2
}
